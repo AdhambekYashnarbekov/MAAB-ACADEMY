{
 "cells": [
  {
   "cell_type": "code",
   "execution_count": 5,
   "metadata": {},
   "outputs": [],
   "source": [
    "import sqlite3 \n",
    "\n",
    "with sqlite3.connect(\"roster.db\") as connection:\n",
    "    cursor = connection.cursor()\n",
    "    \n",
    "    query = \"\"\"\n",
    "        CREATE TABLE IF NOT EXISTS Roster(Name TEXT, Species TEXT, Age INTEGER);\n",
    "\n",
    "        INSERT INTO Roster VALUES('Benjamin Sisko', 'Human', 40);\n",
    "        INSERT INTO Roster VALUES('Jadzia Dax', 'Trill', 300);\n",
    "        INSERT INTO Roster VALUES('Kira Nerys', 'Bajoran', 29);\n",
    "    \"\"\"\n",
    "    \n",
    "    cursor.executescript(query)  \n",
    "    cursor.close()\n"
   ]
  },
  {
   "cell_type": "markdown",
   "metadata": {},
   "source": [
    "Update the Table "
   ]
  },
  {
   "cell_type": "code",
   "execution_count": 10,
   "metadata": {},
   "outputs": [],
   "source": [
    "with sqlite3.connect(\"roster.db\") as connection:\n",
    "    cursor = connection.cursor()\n",
    "    cursor.execute(\"\"\" UPDATE Roster SET Name = 'Ezri Dax'\n",
    "                    WHERE Age = 300\n",
    "\n",
    "    \"\"\")\n",
    "connection.commit()"
   ]
  },
  {
   "cell_type": "markdown",
   "metadata": {},
   "source": [
    "Display Specific Raw in Data"
   ]
  },
  {
   "cell_type": "code",
   "execution_count": 12,
   "metadata": {},
   "outputs": [
    {
     "name": "stdout",
     "output_type": "stream",
     "text": [
      "('Kira Nerys', 'Bajoran', 29)\n"
     ]
    }
   ],
   "source": [
    "with sqlite3.connect(\"roster.db\") as connection:\n",
    "    cursor = connection.cursor()\n",
    "    species  = \"Bajoran\"\n",
    "    cursor.execute(\"SELECT * FROM Roster WHERE Species =?\", (species,))\n",
    "    result = cursor.fetchone()\n",
    "    if result:\n",
    "        print(result)\n",
    "    else:\n",
    "        print(\"No Matching record found!\")"
   ]
  },
  {
   "cell_type": "code",
   "execution_count": null,
   "metadata": {},
   "outputs": [
    {
     "ename": "SyntaxError",
     "evalue": "unterminated string literal (detected at line 6) (2445141048.py, line 6)",
     "output_type": "error",
     "traceback": [
      "\u001b[0;36m  Cell \u001b[0;32mIn[16], line 6\u001b[0;36m\u001b[0m\n\u001b[0;31m    print(\"with sqlite3.connect(\"library.db\") as connection:\u001b[0m\n\u001b[0m                                           ^\u001b[0m\n\u001b[0;31mSyntaxError\u001b[0m\u001b[0;31m:\u001b[0m unterminated string literal (detected at line 6)\n"
     ]
    }
   ],
   "source": [
    "with sqlite3.connect(\"roster.db\") as connection:\n",
    "    cursor = connection.cursor()\n",
    "    age = 100\n",
    "    cursor.execute(\"DELETE FROM Roster WHERE Age > ?\", (age,))\n",
    "    connection.commit()\n",
    "    print(\"Records deleted successfully!\")"
   ]
  }
 ],
 "metadata": {
  "kernelspec": {
   "display_name": "Python 3",
   "language": "python",
   "name": "python3"
  },
  "language_info": {
   "codemirror_mode": {
    "name": "ipython",
    "version": 3
   },
   "file_extension": ".py",
   "mimetype": "text/x-python",
   "name": "python",
   "nbconvert_exporter": "python",
   "pygments_lexer": "ipython3",
   "version": "3.13.0"
  }
 },
 "nbformat": 4,
 "nbformat_minor": 2
}
