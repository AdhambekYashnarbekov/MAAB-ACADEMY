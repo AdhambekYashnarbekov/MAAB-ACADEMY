{
 "cells": [
  {
   "cell_type": "markdown",
   "metadata": {},
   "source": [
    "Database Creation"
   ]
  },
  {
   "cell_type": "code",
   "execution_count": 43,
   "metadata": {},
   "outputs": [],
   "source": [
    "import sqlite3\n",
    "with sqlite3.connect(\"library.db\") as connection:\n",
    "    cursor = connection.cursor()\n",
    "    query = (\"\"\" \n",
    "    CREATE TABLE Library (Title TEXT, Author TEXT, Year_Published INTEGER, Genre TEXT)\n",
    "    \"\"\")\n",
    "    cursor.execute(query)\n",
    "    cursor.close()\n"
   ]
  },
  {
   "cell_type": "markdown",
   "metadata": {},
   "source": [
    "Insert Data to the new Library table"
   ]
  },
  {
   "cell_type": "code",
   "execution_count": 44,
   "metadata": {},
   "outputs": [],
   "source": [
    "with sqlite3.connect(\"library.db\") as connection:\n",
    "    cursor = connection.cursor()\n",
    "    query = \"\"\"\n",
    "INSERT INTO Library VALUES  ('To Kill a Mockingbird', 'Harper Lee', 1960, 'Fiction');\n",
    "INSERT INTO Library VALUES ('1984', 'George Orwell', 1949, 'Dystopian');\n",
    "INSERT INTO Library VALUES ('The Great Gatsby', 'F. Scott Fitzgerald', 1925 , 'Classic');\n",
    "\"\"\"\n",
    "    cursor.executescript(query)\n",
    "   "
   ]
  },
  {
   "cell_type": "markdown",
   "metadata": {},
   "source": [
    "Update Data"
   ]
  },
  {
   "cell_type": "code",
   "execution_count": 45,
   "metadata": {},
   "outputs": [
    {
     "name": "stdout",
     "output_type": "stream",
     "text": [
      "Record updated successfully.\n"
     ]
    }
   ],
   "source": [
    "import sqlite3\n",
    "\n",
    "with sqlite3.connect('library.db') as connection:\n",
    "    cursor = connection.cursor()  \n",
    "    \n",
    "    \n",
    "    cursor.execute(\"\"\"\n",
    "        UPDATE Library \n",
    "        SET Year_Published = 1950 \n",
    "        WHERE Title = '1984'\n",
    "    \"\"\")\n",
    "    \n",
    "    connection.commit()  \n",
    "    print(\"Record updated successfully.\")\n"
   ]
  },
  {
   "cell_type": "markdown",
   "metadata": {},
   "source": [
    "Query Data:\n",
    "\n",
    "Retrieve and display the Title and Author of all books where the Genre is Dystopian.\n"
   ]
  },
  {
   "cell_type": "code",
   "execution_count": 46,
   "metadata": {},
   "outputs": [
    {
     "name": "stdout",
     "output_type": "stream",
     "text": [
      "Title: 1984, Author: George Orwell\n"
     ]
    }
   ],
   "source": [
    "import sqlite3\n",
    "\n",
    "with sqlite3.connect(\"library.db\") as connection:\n",
    "    cursor = connection.cursor()\n",
    "    \n",
    "    genre = 'Dystopian'\n",
    "    cursor.execute(\"SELECT Title, Author FROM Library WHERE Genre = ?\", (genre,))\n",
    "    \n",
    "    results = cursor.fetchall()  \n",
    "    \n",
    "    if results:\n",
    "        for title, author in results:\n",
    "            print(f\"Title: {title}, Author: {author}\")\n",
    "    else:\n",
    "        print(\"No Dystopian books found.\")\n"
   ]
  },
  {
   "cell_type": "markdown",
   "metadata": {},
   "source": [
    "DELETE DATA"
   ]
  },
  {
   "cell_type": "code",
   "execution_count": 47,
   "metadata": {},
   "outputs": [
    {
     "name": "stdout",
     "output_type": "stream",
     "text": [
      "Records deleted successfully!\n"
     ]
    }
   ],
   "source": [
    "with sqlite3.connect(\"library.db\") as connection:\n",
    "    cursor = connection.cursor()\n",
    "    year = 1950\n",
    "    cursor.execute(\"DELETE FROM Library WHERE Year_Published < ?\", (year,))\n",
    "    connection.commit()\n",
    "    print(\"Records deleted successfully!\")"
   ]
  },
  {
   "cell_type": "markdown",
   "metadata": {},
   "source": [
    "Adding a new column"
   ]
  },
  {
   "cell_type": "code",
   "execution_count": 48,
   "metadata": {},
   "outputs": [
    {
     "name": "stdout",
     "output_type": "stream",
     "text": [
      "Column 'Rating' added successfully!\n"
     ]
    }
   ],
   "source": [
    "with sqlite3.connect(\"library.db\") as connection:\n",
    "    cursor = connection.cursor()\n",
    "\n",
    "\n",
    "    cursor.execute(\"ALTER TABLE Library ADD COLUMN Rating REAL\")\n",
    "    connection.commit()\n",
    "    print(\"Column 'Rating' added successfully!\")\n",
    "    "
   ]
  },
  {
   "cell_type": "code",
   "execution_count": null,
   "metadata": {},
   "outputs": [
    {
     "name": "stdout",
     "output_type": "stream",
     "text": [
      "ISBN updated successfully.\n"
     ]
    }
   ],
   "source": [
    "with sqlite3.connect(\"library.db\") as connection:\n",
    "    cursor = connection.cursor()\n",
    "    \n",
    "    \n",
    "    cursor.execute(\"\"\"\n",
    "        UPDATE Library\n",
    "        SET Rating = 4.7\n",
    "        WHERE Title = '1984'\n",
    "                   \n",
    "        \n",
    "    \"\"\")\n",
    "    cursor.execute(\"\"\"\n",
    "        UPDATE Library\n",
    "        SET Rating = 4.8\n",
    "        WHERE Title = 'To Kill a Mockingbird'\n",
    "\"\"\")\n",
    "    \n",
    "    cursor.execute(\"\"\"\n",
    "        UPDATE Library\n",
    "        SET Rating = 4.5\n",
    "        WHERE Title = 'The Great Gatsby'\n",
    "\n",
    "\"\"\")\n",
    "    \n",
    "    connection.commit()\n",
    "    print(\"Rating updated successfully.\")"
   ]
  }
 ],
 "metadata": {
  "kernelspec": {
   "display_name": "Python 3",
   "language": "python",
   "name": "python3"
  },
  "language_info": {
   "codemirror_mode": {
    "name": "ipython",
    "version": 3
   },
   "file_extension": ".py",
   "mimetype": "text/x-python",
   "name": "python",
   "nbconvert_exporter": "python",
   "pygments_lexer": "ipython3",
   "version": "3.13.0"
  }
 },
 "nbformat": 4,
 "nbformat_minor": 2
}
